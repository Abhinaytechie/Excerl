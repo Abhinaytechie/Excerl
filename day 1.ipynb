{
 "cells": [
  {
   "cell_type": "code",
   "execution_count": 9,
   "metadata": {
    "colab": {
     "base_uri": "https://localhost:8080/"
    },
    "id": "TjgGX3vkGvrh",
    "outputId": "ed524bdd-8e2e-494f-d677-7b5cb655a3c4"
   },
   "outputs": [
    {
     "data": {
      "text/plain": [
       "567"
      ]
     },
     "execution_count": 9,
     "metadata": {},
     "output_type": "execute_result"
    }
   ],
   "source": [
    "a=21\n",
    "b=27\n",
    "a+b\n",
    "a-b\n",
    "a*b"
   ]
  },
  {
   "cell_type": "code",
   "execution_count": 4,
   "metadata": {
    "colab": {
     "base_uri": "https://localhost:8080/"
    },
    "id": "eJFL0sRsHCMe",
    "outputId": "1f5240b2-c9c6-4c41-f2d2-e9470beb37e6"
   },
   "outputs": [
    {
     "name": "stdout",
     "output_type": "stream",
     "text": [
      "567\n",
      "48\n",
      "-6\n"
     ]
    }
   ],
   "source": [
    "a=21\n",
    "b=27\n",
    "x=a+b\n",
    "y=a-b\n",
    "print(a*b)\n",
    "print(x)\n",
    "print(y)"
   ]
  },
  {
   "cell_type": "code",
   "execution_count": 12,
   "metadata": {
    "colab": {
     "base_uri": "https://localhost:8080/"
    },
    "id": "5iOrdqqbHrC-",
    "outputId": "c92d86f6-d9b9-41be-efba-2505ebd125b8"
   },
   "outputs": [
    {
     "name": "stdout",
     "output_type": "stream",
     "text": [
      "the first number is: 21\n",
      "21\n",
      "<class 'str'>\n"
     ]
    }
   ],
   "source": [
    "a=input(\"the first number is: \")\n",
    "print(a)\n",
    "print(type(a))"
   ]
  },
  {
   "cell_type": "code",
   "execution_count": 19,
   "metadata": {
    "colab": {
     "base_uri": "https://localhost:8080/"
    },
    "id": "_sFwzG7XHx1X",
    "outputId": "5b88d070-cb03-4cae-b873-1fef0dfcba4e"
   },
   "outputs": [
    {
     "name": "stdout",
     "output_type": "stream",
     "text": [
      "first number: 21\n",
      "second number: 27\n",
      "Addition of 21 and 27 is:  48\n",
      "567\n"
     ]
    }
   ],
   "source": [
    "a=int(input(\"first number: \"))\n",
    "b=int(input(\"second number: \"))\n",
    "print(f\"Addition of {a} and {b} is: \",a+b)\n",
    "print(a*b)"
   ]
  },
  {
   "cell_type": "code",
   "execution_count": 18,
   "metadata": {
    "colab": {
     "base_uri": "https://localhost:8080/"
    },
    "id": "5U1VGAPoIxzX",
    "outputId": "7161164f-8d0c-426f-f54f-2efd334ae6f3"
   },
   "outputs": [
    {
     "name": "stdout",
     "output_type": "stream",
     "text": [
      "Enter your name: yash\n",
      "Enter your age: 21\n",
      "Your name is:  yash\n",
      "Your age is:  21\n",
      "entered name is yash and age is 21\n"
     ]
    }
   ],
   "source": [
    "name=input(\"Enter your name: \")\n",
    "age=int(input(\"Enter your age: \"))\n",
    "print(\"Your name is: \",name)\n",
    "print(\"Your age is: \",age)\n",
    "print(f\"entered name is {name} and age is {age}\")"
   ]
  },
  {
   "cell_type": "code",
   "execution_count": 22,
   "metadata": {
    "colab": {
     "base_uri": "https://localhost:8080/"
    },
    "id": "T8XN2EcAKUKY",
    "outputId": "68a97f98-2ad7-4cfc-bc4f-20131df90892"
   },
   "outputs": [
    {
     "name": "stdout",
     "output_type": "stream",
     "text": [
      "Integer: 2\n",
      "Interger: 1\n",
      "True\n"
     ]
    }
   ],
   "source": [
    "aa=int(input(\"Integer: \"))\n",
    "bb=int(input(\"Interger: \"))\n",
    "print(aa>bb)\n"
   ]
  },
  {
   "cell_type": "code",
   "execution_count": 23,
   "metadata": {
    "colab": {
     "base_uri": "https://localhost:8080/"
    },
    "id": "7182henVI6cK",
    "outputId": "1203317a-5aca-4480-ee59-0d064dc96d92"
   },
   "outputs": [
    {
     "name": "stdout",
     "output_type": "stream",
     "text": [
      "Integer: 1\n",
      "Interger: 2\n",
      "False\n"
     ]
    }
   ],
   "source": [
    "aa=int(input(\"Integer: \"))\n",
    "bb=int(input(\"Interger: \"))\n",
    "print(aa>bb)\n"
   ]
  },
  {
   "cell_type": "code",
   "execution_count": 24,
   "metadata": {
    "colab": {
     "base_uri": "https://localhost:8080/"
    },
    "id": "G09MLYOZLO8J",
    "outputId": "1c9d2f1d-2826-4fd8-ed58-42d52b90c62a"
   },
   "outputs": [
    {
     "name": "stdout",
     "output_type": "stream",
     "text": [
      "False\n",
      "True\n"
     ]
    }
   ],
   "source": [
    "print(2 != 2)\n",
    "print(2 == 2)"
   ]
  },
  {
   "cell_type": "code",
   "execution_count": 31,
   "metadata": {
    "colab": {
     "base_uri": "https://localhost:8080/"
    },
    "id": "ijiM6YeXL9lU",
    "outputId": "f3b28567-da68-43b3-bebb-1a77efcab560"
   },
   "outputs": [
    {
     "name": "stdout",
     "output_type": "stream",
     "text": [
      "False\n",
      "True\n",
      "False\n",
      "False\n"
     ]
    }
   ],
   "source": [
    "a=21\n",
    "b=27\n",
    "c=4\n",
    "print(a>b and c<b)\n",
    "print(b>a or a<b)\n",
    "print(a != a)\n",
    "\n",
    "x=a>b and c<b\n",
    "print(x)\n"
   ]
  },
  {
   "cell_type": "code",
   "execution_count": 30,
   "metadata": {
    "colab": {
     "base_uri": "https://localhost:8080/"
    },
    "id": "cfk8AKvkLoa2",
    "outputId": "64e771cd-7314-4d79-abce-0ae78abb7cf8"
   },
   "outputs": [
    {
     "name": "stdout",
     "output_type": "stream",
     "text": [
      "11\n",
      "False\n"
     ]
    }
   ],
   "source": [
    "x=11\n",
    "y=not x\n",
    "print(x)\n",
    "print(y)"
   ]
  },
  {
   "cell_type": "code",
   "execution_count": null,
   "metadata": {
    "id": "POLqaG5wN5dA"
   },
   "outputs": [],
   "source": []
  },
  {
   "cell_type": "code",
   "execution_count": null,
   "metadata": {
    "id": "UQmPSx-RN5lR"
   },
   "outputs": [],
   "source": []
  },
  {
   "cell_type": "code",
   "execution_count": null,
   "metadata": {
    "id": "dGjPT6llN5pQ"
   },
   "outputs": [],
   "source": []
  },
  {
   "cell_type": "code",
   "execution_count": null,
   "metadata": {
    "id": "INoskDz8N5wV"
   },
   "outputs": [],
   "source": []
  }
 ],
 "metadata": {
  "colab": {
   "provenance": []
  },
  "kernelspec": {
   "display_name": "Python 3 (ipykernel)",
   "language": "python",
   "name": "python3"
  },
  "language_info": {
   "codemirror_mode": {
    "name": "ipython",
    "version": 3
   },
   "file_extension": ".py",
   "mimetype": "text/x-python",
   "name": "python",
   "nbconvert_exporter": "python",
   "pygments_lexer": "ipython3",
   "version": "3.11.4"
  }
 },
 "nbformat": 4,
 "nbformat_minor": 1
}
