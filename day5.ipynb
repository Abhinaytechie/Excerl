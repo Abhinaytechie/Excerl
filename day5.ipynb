{
 "cells": [
  {
   "cell_type": "markdown",
   "metadata": {},
   "source": [
    "freq of words in sentance"
   ]
  },
  {
   "cell_type": "code",
   "execution_count": 10,
   "metadata": {},
   "outputs": [
    {
     "name": "stdout",
     "output_type": "stream",
     "text": [
      "['I', 'love', 'onepiece', 'so', 'much,i', 'love', 'luffy', 'so', 'much']\n",
      "{'I': 1, 'love': 2, 'onepiece': 1, 'so': 2, 'much,i': 1, 'luffy': 1, 'much': 1}\n"
     ]
    }
   ],
   "source": [
    "sen=\"I love onepiece so much,i love luffy so much\"\n",
    "lis=sen.split(\" \")\n",
    "print(lis)\n",
    "ans=dict()\n",
    "for i in lis:\n",
    "    if i in ans:\n",
    "       ans[i]+=1\n",
    "    else:\n",
    "        ans[i]=1   \n",
    "print(ans)"
   ]
  }
 ],
 "metadata": {
  "kernelspec": {
   "display_name": "Python 3",
   "language": "python",
   "name": "python3"
  },
  "language_info": {
   "codemirror_mode": {
    "name": "ipython",
    "version": 3
   },
   "file_extension": ".py",
   "mimetype": "text/x-python",
   "name": "python",
   "nbconvert_exporter": "python",
   "pygments_lexer": "ipython3",
   "version": "3.12.0"
  }
 },
 "nbformat": 4,
 "nbformat_minor": 2
}
