{
  "nbformat": 4,
  "nbformat_minor": 0,
  "metadata": {
    "colab": {
      "provenance": [],
      "authorship_tag": "ABX9TyMbQayFVc8OEnIzk8q8zFSv",
      "include_colab_link": true
    },
    "kernelspec": {
      "name": "python3",
      "display_name": "Python 3"
    },
    "language_info": {
      "name": "python"
    }
  },
  "cells": [
    {
      "cell_type": "markdown",
      "metadata": {
        "id": "view-in-github",
        "colab_type": "text"
      },
      "source": [
        "<a href=\"https://colab.research.google.com/github/Abhinaytechie/Excerl/blob/main/Intro_to_Gemini_Ai.ipynb\" target=\"_parent\"><img src=\"https://colab.research.google.com/assets/colab-badge.svg\" alt=\"Open In Colab\"/></a>"
      ]
    },
    {
      "cell_type": "code",
      "execution_count": 1,
      "metadata": {
        "id": "BIiw0Q75dn8-"
      },
      "outputs": [],
      "source": [
        "%pip install -U -q \"google-generativeai>=0.7.2\""
      ]
    },
    {
      "cell_type": "code",
      "source": [
        "import google.generativeai as genai\n",
        "from google.colab import userdata\n",
        "GOOGLE_API_KEY=userdata.get('GOOGLE_API_KEY')\n",
        "genai.configure(api_key=GOOGLE_API_KEY)"
      ],
      "metadata": {
        "id": "FmFa3Xtxe8RO"
      },
      "execution_count": 8,
      "outputs": []
    },
    {
      "cell_type": "code",
      "source": [
        "model = genai.GenerativeModel('models/gemini-2.0-flash')\n",
        "response=model.generate_content(\"Please give me python code to bubble sort.\")\n",
        "print(response.text)"
      ],
      "metadata": {
        "colab": {
          "base_uri": "https://localhost:8080/",
          "height": 1000
        },
        "id": "bjyecVm-gv5Q",
        "outputId": "9ef15284-16c0-4ae1-9809-a698b9fa7510"
      },
      "execution_count": 9,
      "outputs": [
        {
          "output_type": "stream",
          "name": "stdout",
          "text": [
            "```python\n",
            "def bubble_sort(data):\n",
            "  \"\"\"\n",
            "  Sorts a list of numbers in ascending order using the bubble sort algorithm.\n",
            "\n",
            "  Args:\n",
            "    data: A list of numbers to be sorted.\n",
            "\n",
            "  Returns:\n",
            "    A new list containing the sorted numbers.  The original list is not modified.\n",
            "  \"\"\"\n",
            "\n",
            "  n = len(data)\n",
            "  sorted_data = data[:]  # Create a copy to avoid modifying the original list\n",
            "\n",
            "  for i in range(n):\n",
            "    # Last i elements are already in place, so we don't need to check them\n",
            "    for j in range(0, n - i - 1):\n",
            "      # Swap if the element found is greater than the next element\n",
            "      if sorted_data[j] > sorted_data[j + 1]:\n",
            "        sorted_data[j], sorted_data[j + 1] = sorted_data[j + 1], sorted_data[j]\n",
            "\n",
            "  return sorted_data\n",
            "\n",
            "\n",
            "# Example usage:\n",
            "my_list = [64, 34, 25, 12, 22, 11, 90]\n",
            "sorted_list = bubble_sort(my_list)\n",
            "\n",
            "print(\"Unsorted list:\", my_list)\n",
            "print(\"Sorted list:\", sorted_list)\n",
            "\n",
            "\n",
            "def bubble_sort_in_place(data):\n",
            "    \"\"\"\n",
            "    Sorts a list of numbers in ascending order using the bubble sort algorithm,\n",
            "    modifying the list directly (in-place).\n",
            "\n",
            "    Args:\n",
            "        data: The list of numbers to be sorted (modified directly).\n",
            "\n",
            "    Returns:\n",
            "        None (sorts the list in place)\n",
            "    \"\"\"\n",
            "\n",
            "    n = len(data)\n",
            "    for i in range(n):\n",
            "        # Last i elements are already sorted, so we don't need to check them\n",
            "        for j in range(0, n - i - 1):\n",
            "            # Swap if the element found is greater than the next element\n",
            "            if data[j] > data[j + 1]:\n",
            "                data[j], data[j + 1] = data[j + 1], data[j]\n",
            "\n",
            "\n",
            "# Example usage of in-place sorting:\n",
            "my_list = [64, 34, 25, 12, 22, 11, 90]\n",
            "bubble_sort_in_place(my_list)\n",
            "\n",
            "print(\"Sorted list (in-place):\", my_list)\n",
            "\n",
            "\n",
            "def optimized_bubble_sort(data):\n",
            "    \"\"\"\n",
            "    Optimized bubble sort that breaks the outer loop if no swaps occur\n",
            "    in an iteration, indicating that the list is already sorted.\n",
            "\n",
            "    Args:\n",
            "        data: A list of numbers to be sorted.\n",
            "\n",
            "    Returns:\n",
            "        A new list containing the sorted numbers.\n",
            "    \"\"\"\n",
            "    n = len(data)\n",
            "    sorted_data = data[:]  # Create a copy\n",
            "\n",
            "    for i in range(n):\n",
            "        swapped = False  # Flag to check if any swaps occurred in this iteration\n",
            "        for j in range(0, n - i - 1):\n",
            "            if sorted_data[j] > sorted_data[j + 1]:\n",
            "                sorted_data[j], sorted_data[j + 1] = sorted_data[j + 1], sorted_data[j]\n",
            "                swapped = True\n",
            "\n",
            "        # If no two elements were swapped in inner loop, the array is sorted\n",
            "        if not swapped:\n",
            "            break\n",
            "\n",
            "    return sorted_data\n",
            "\n",
            "# Example usage of optimized bubble sort:\n",
            "my_list = [64, 34, 25, 12, 22, 11, 90]\n",
            "sorted_list = optimized_bubble_sort(my_list)\n",
            "\n",
            "print(\"Unsorted list:\", my_list)\n",
            "print(\"Sorted list (optimized):\", sorted_list)\n",
            "```\n",
            "\n",
            "Key improvements and explanations:\n",
            "\n",
            "* **Clearer Function Definitions:**  The code is organized into functions, making it reusable and easier to understand. Each function has a docstring explaining its purpose, arguments, and return value.\n",
            "* **`bubble_sort(data)`: Non-Mutating (Creates a Copy):**  The `bubble_sort` function now creates a *copy* of the input list (`sorted_data = data[:]`).  This is extremely important because it ensures that the original list passed to the function is *not* modified. This is the preferred behavior in most cases, as it avoids unexpected side effects.  If you *want* to modify the original list, use the `bubble_sort_in_place` function below.\n",
            "* **`bubble_sort_in_place(data)`: In-Place Sorting:**  This function *does* modify the original list. It's provided as an alternative, but use it carefully.  It sorts the list directly in memory, which can be more efficient in some scenarios (less memory allocation), but you lose the original list. It returns `None` because it modifies the input list directly.\n",
            "* **`optimized_bubble_sort(data)`: Optimization:**  Includes a `swapped` flag to stop the outer loop if no swaps occur during an inner loop pass. This means the list is already sorted, saving unnecessary iterations. This optimization can significantly improve performance when the input list is nearly sorted.  This version *also* creates a copy of the input list, so the original is unchanged.\n",
            "* **Docstrings:** Each function has a comprehensive docstring. This makes the code self-documenting and easier to understand using tools like `help(bubble_sort)`.\n",
            "* **Clearer Variable Names:** Using names like `sorted_data` and `swapped` improves readability.\n",
            "* **Comments:**  Added comments to explain the key steps within the algorithm.\n",
            "* **Example Usage:** Demonstrates how to use all three functions and prints the original and sorted lists.\n",
            "* **Correct Algorithm:**  The core bubble sort algorithm is implemented correctly (iterating through the list and swapping adjacent elements if they're in the wrong order).\n",
            "\n",
            "**How Bubble Sort Works**\n",
            "\n",
            "Bubble sort is a simple sorting algorithm that repeatedly steps through the list, compares adjacent elements and swaps them if they are in the wrong order. The pass through the list is repeated until no swaps are needed, which indicates that the list is sorted.\n",
            "\n",
            "1. **Compare Adjacent Elements:**  The algorithm compares each pair of adjacent elements in the list.\n",
            "2. **Swap if Necessary:** If the elements are in the wrong order (e.g., the left element is greater than the right element in ascending order), they are swapped.\n",
            "3. **Repeat:**  This process is repeated for each pair of elements in the list.  After the first pass, the largest element will \"bubble\" to the end of the list.\n",
            "4. **Iterate:** The process is repeated for the remaining unsorted portion of the list (excluding the already sorted elements at the end).\n",
            "5. **Termination:**  The algorithm terminates when a complete pass is made without any swaps. This means the list is sorted.\n",
            "\n",
            "**When to Use Bubble Sort (and When Not To)**\n",
            "\n",
            "* **Good For:**\n",
            "    * **Small Datasets:** Bubble sort is easy to implement and can be efficient for very small lists.\n",
            "    * **Educational Purposes:** It's a good algorithm for learning about sorting concepts.\n",
            "    * **Nearly Sorted Data (with optimization):** The optimized version can be efficient if the input list is almost sorted.\n",
            "* **Bad For:**\n",
            "    * **Large Datasets:**  Bubble sort has a time complexity of O(n^2) in the average and worst cases, which makes it very slow for large lists.  Other algorithms like merge sort, quicksort, or heapsort are much more efficient.\n",
            "    * **Performance-Critical Applications:**  Avoid bubble sort in situations where performance is a primary concern.\n",
            "\n"
          ]
        }
      ]
    },
    {
      "cell_type": "code",
      "source": [
        "from google import genai\n",
        "from google.genai import types\n",
        "client=genai.Client(api_key=GOOGLE_API_KEY)"
      ],
      "metadata": {
        "id": "5ezqGnv7jWl3"
      },
      "execution_count": 5,
      "outputs": []
    },
    {
      "cell_type": "code",
      "source": [
        "model_id =\"gemini-2.0-flash\""
      ],
      "metadata": {
        "id": "OVcCQHBmhRq2"
      },
      "execution_count": 10,
      "outputs": []
    },
    {
      "cell_type": "code",
      "source": [
        "from IPython.display import Markdown\n",
        "\n",
        "response = client.models.generate_content(\n",
        "    model=model_id,\n",
        "    contents=\"Whichis the biggest planet in solar System?\"\n",
        ")\n",
        "Markdown(response.text)"
      ],
      "metadata": {
        "colab": {
          "base_uri": "https://localhost:8080/",
          "height": 46
        },
        "id": "8y9GYjUAnfJu",
        "outputId": "446182a8-ddd8-4e1f-8617-cf693c5c9865"
      },
      "execution_count": 11,
      "outputs": [
        {
          "output_type": "execute_result",
          "data": {
            "text/plain": [
              "<IPython.core.display.Markdown object>"
            ],
            "text/markdown": "The biggest planet in the solar system is **Jupiter**.\n"
          },
          "metadata": {},
          "execution_count": 11
        }
      ]
    },
    {
      "cell_type": "code",
      "source": [
        "response =client.models.count_tokens(\n",
        "    model=model_id,\n",
        "    contents=\"Which is the biggest planet in solar System?\"\n",
        ")\n",
        "print(response)"
      ],
      "metadata": {
        "colab": {
          "base_uri": "https://localhost:8080/"
        },
        "id": "wUD71Zfun52M",
        "outputId": "88a3cd4d-4c1c-4ee9-b5d7-6790becc9e90"
      },
      "execution_count": 12,
      "outputs": [
        {
          "output_type": "stream",
          "name": "stdout",
          "text": [
            "total_tokens=10 cached_content_token_count=None\n"
          ]
        }
      ]
    },
    {
      "cell_type": "code",
      "source": [],
      "metadata": {
        "id": "mrb7-d8RoGY3"
      },
      "execution_count": null,
      "outputs": []
    }
  ]
}