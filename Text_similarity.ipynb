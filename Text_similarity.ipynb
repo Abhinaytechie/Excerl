{
  "nbformat": 4,
  "nbformat_minor": 0,
  "metadata": {
    "colab": {
      "provenance": [],
      "authorship_tag": "ABX9TyP88dV1RCGYWwi+mojXMIu1",
      "include_colab_link": true
    },
    "kernelspec": {
      "name": "python3",
      "display_name": "Python 3"
    },
    "language_info": {
      "name": "python"
    }
  },
  "cells": [
    {
      "cell_type": "markdown",
      "metadata": {
        "id": "view-in-github",
        "colab_type": "text"
      },
      "source": [
        "<a href=\"https://colab.research.google.com/github/Abhinaytechie/Excerl/blob/main/Text_similarity.ipynb\" target=\"_parent\"><img src=\"https://colab.research.google.com/assets/colab-badge.svg\" alt=\"Open In Colab\"/></a>"
      ]
    },
    {
      "cell_type": "code",
      "execution_count": 1,
      "metadata": {
        "colab": {
          "base_uri": "https://localhost:8080/"
        },
        "id": "U8Gh5670gR6v",
        "outputId": "ddb36d63-bb52-4f18-a5ea-e25401383ef1"
      },
      "outputs": [
        {
          "output_type": "stream",
          "name": "stdout",
          "text": [
            "[ Mr.Trump beacame president after winning the political election. Though he lost the support of some republican friends, Trump is friends with President Putin ]\n",
            "\n",
            "[ President Trump says Putin had no political interference is the election outcome. He says it was a witchhunt by political parties. He claimed President Putin is a friend ]\n",
            "\n",
            "[ Post elections, Vladimir Putin beacame president of Russia, President Putin has served as Prime Minister earlier in his political career ]\n",
            "\n"
          ]
        }
      ],
      "source": [
        "doc_trump=\"Mr.Trump beacame president after winning the political election. Though he lost the support of some republican friends, Trump is friends with President Putin\"\n",
        "doc_putin=\"Post elections, Vladimir Putin beacame president of Russia, President Putin has served as Prime Minister earlier in his political career\"\n",
        "doc_election=\"President Trump says Putin had no political interference is the election outcome. He says it was a witchhunt by political parties. He claimed President Putin is a friend\"\n",
        "documents=[doc_trump,doc_election,doc_putin]\n",
        "for i in documents:\n",
        "  print(\"[\",i,\"]\")\n",
        "  print()\n"
      ]
    },
    {
      "cell_type": "code",
      "source": [
        "from sklearn.feature_extraction.text import CountVectorizer\n",
        "import pandas as pd\n",
        "count_vectorizer=CountVectorizer(stop_words='english')\n",
        "count_vectorizer=CountVectorizer()\n",
        "sparse_matrix=count_vectorizer.fit_transform(documents)\n",
        "doc_term_matrix=sparse_matrix.todense()\n",
        "df=pd.DataFrame(doc_term_matrix,columns=count_vectorizer.get_feature_names_out(),\n",
        "                index=['doc_trump','doc_election','doc_putin'])\n",
        "print(df)"
      ],
      "metadata": {
        "colab": {
          "base_uri": "https://localhost:8080/"
        },
        "id": "-wO2SkE4geQx",
        "outputId": "68b467b7-64cc-4166-ac0c-03649df15983"
      },
      "execution_count": 2,
      "outputs": [
        {
          "output_type": "stream",
          "name": "stdout",
          "text": [
            "              after  as  beacame  by  career  claimed  earlier  election  \\\n",
            "doc_trump         1   0        1   0       0        0        0         1   \n",
            "doc_election      0   0        0   1       0        1        0         1   \n",
            "doc_putin         0   1        1   0       1        0        1         0   \n",
            "\n",
            "              elections  friend  ...  some  support  the  though  trump  \\\n",
            "doc_trump             0       0  ...     1        1    2       1      2   \n",
            "doc_election          0       1  ...     0        0    1       0      1   \n",
            "doc_putin             1       0  ...     0        0    0       0      0   \n",
            "\n",
            "              vladimir  was  winning  witchhunt  with  \n",
            "doc_trump            0    0        1          0     1  \n",
            "doc_election         0    1        0          1     0  \n",
            "doc_putin            1    0        0          0     0  \n",
            "\n",
            "[3 rows x 45 columns]\n"
          ]
        }
      ]
    },
    {
      "cell_type": "code",
      "source": [
        "from sklearn.metrics.pairwise import cosine_similarity\n",
        "print(cosine_similarity(df,df))"
      ],
      "metadata": {
        "colab": {
          "base_uri": "https://localhost:8080/"
        },
        "id": "MNxnNixjggXP",
        "outputId": "3b7a9bb5-4acc-4736-a9ed-6e2d26ca1079"
      },
      "execution_count": 3,
      "outputs": [
        {
          "output_type": "stream",
          "name": "stdout",
          "text": [
            "[[1.         0.48750843 0.32475953]\n",
            " [0.48750843 1.         0.33113309]\n",
            " [0.32475953 0.33113309 1.        ]]\n"
          ]
        }
      ]
    },
    {
      "cell_type": "code",
      "source": [
        "from math import cos\n",
        "import numpy as np\n",
        "import matplotlib.pyplot as plt\n",
        "a=np.array([7,3])\n",
        "b=np.array([3,7])\n",
        "ax=plt.axes()\n",
        "ax.arrow(0.0,0.0,a[0],a[1],head_width=0.4,head_length=0.5)\n",
        "plt.annotate(f\"a({a[0]},{a[1]})\",xy=(a[0],a[1]),xytext=(a[0]+0.5,a[1]))\n",
        "ax.arrow(0.0,0.0,b[0],b[1],head_width=0.4,head_length=0.5)\n",
        "plt.annotate(f\"b({b[0]},{b[1]})\",xy=(b[0],b[1]),xytext=(b[0]+0.5,b[1]))\n",
        "plt.xlim(0,10)\n",
        "plt.ylim(0,10)\n",
        "plt.show()\n",
        "plt.close()\n",
        "\n",
        "\n",
        "cos_sim=np.dot(a,b)/(np.linalg.norm(a)*np.linalg.norm(b))\n",
        "print(f\"cosine similarity between a and b is: {cos_sim}\")\n",
        "print(f\"Cosine Distance between a and b is: {1-cos_sim}\")"
      ],
      "metadata": {
        "colab": {
          "base_uri": "https://localhost:8080/",
          "height": 471
        },
        "id": "9WXa8Y6UgiOv",
        "outputId": "027d984d-474b-484b-e7d3-6e5768fc8d73"
      },
      "execution_count": 4,
      "outputs": [
        {
          "output_type": "display_data",
          "data": {
            "text/plain": [
              "<Figure size 640x480 with 1 Axes>"
            ],
            "image/png": "[encoded data removed]"
          },
          "metadata": {}
        },
        {
          "output_type": "stream",
          "name": "stdout",
          "text": [
            "cosine similarity between a and b is: 0.7241379310344827\n",
            "Cosine Distance between a and b is: 0.27586206896551735\n"
          ]
        }
      ]
    },
    {
      "cell_type": "code",
      "source": [
        "A={1,2,3,4,5}\n",
        "B={4,5,6,7,8}\n",
        "print(A.intersection(B))\n",
        "print(A.union(B))\n",
        "print(A.difference(B))"
      ],
      "metadata": {
        "colab": {
          "base_uri": "https://localhost:8080/"
        },
        "id": "jksWJcTLglSX",
        "outputId": "2ceeece5-c8af-4ce4-a000-8a025abeff5b"
      },
      "execution_count": 5,
      "outputs": [
        {
          "output_type": "stream",
          "name": "stdout",
          "text": [
            "{4, 5}\n",
            "{1, 2, 3, 4, 5, 6, 7, 8}\n",
            "{1, 2, 3}\n"
          ]
        }
      ]
    }
  ]
}