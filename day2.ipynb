{
 "cells": [
  {
   "cell_type": "markdown",
   "metadata": {},
   "source": [
    "Create a List, tuple and Dictionary with 5 elements in it and how to access few elements based on the index. Try  with different examples \n"
   ]
  },
  {
   "cell_type": "code",
   "execution_count": 1,
   "metadata": {},
   "outputs": [
    {
     "name": "stdout",
     "output_type": "stream",
     "text": [
      "First element: 10\n",
      "Third element: 30\n",
      "Last element: 50\n"
     ]
    }
   ],
   "source": [
    "# Creating a list\n",
    "my_list = [10, 20, 30, 40, 50]\n",
    "\n",
    "# Accessing elements based on index\n",
    "first_element = my_list[0]    # 10\n",
    "third_element = my_list[2]    # 30\n",
    "last_element = my_list[-1]    # 50\n",
    "\n",
    "print(\"First element:\", first_element)\n",
    "print(\"Third element:\", third_element)\n",
    "print(\"Last element:\", last_element)\n"
   ]
  },
  {
   "cell_type": "code",
   "execution_count": 2,
   "metadata": {},
   "outputs": [
    {
     "name": "stdout",
     "output_type": "stream",
     "text": [
      "First element: 100\n",
      "Third element: 300\n",
      "Last element: 500\n"
     ]
    }
   ],
   "source": [
    "# Creating a tuple\n",
    "my_tuple = (100, 200, 300, 400, 500)\n",
    "\n",
    "# Accessing elements based on index\n",
    "first_element = my_tuple[0]    # 100\n",
    "third_element = my_tuple[2]    # 300\n",
    "last_element = my_tuple[-1]    # 500\n",
    "\n",
    "print(\"First element:\", first_element)\n",
    "print(\"Third element:\", third_element)\n",
    "print(\"Last element:\", last_element)\n"
   ]
  },
  {
   "cell_type": "code",
   "execution_count": 3,
   "metadata": {},
   "outputs": [
    {
     "name": "stdout",
     "output_type": "stream",
     "text": [
      "Element with key 'a': 1\n",
      "Element with key 'c': 3\n",
      "Element with key 'e': 5\n"
     ]
    }
   ],
   "source": [
    "# Creating a dictionary\n",
    "my_dict = {\n",
    "    \"a\": 1,\n",
    "    \"b\": 2,\n",
    "    \"c\": 3,\n",
    "    \"d\": 4,\n",
    "    \"e\": 5\n",
    "}\n",
    "\n",
    "# Accessing elements based on key\n",
    "element_a = my_dict[\"a\"]    # 1\n",
    "element_c = my_dict[\"c\"]    # 3\n",
    "element_e = my_dict[\"e\"]    # 5\n",
    "\n",
    "print(\"Element with key 'a':\", element_a)\n",
    "print(\"Element with key 'c':\", element_c)\n",
    "print(\"Element with key 'e':\", element_e)\n"
   ]
  }
 ],
 "metadata": {
  "kernelspec": {
   "display_name": "Python 3",
   "language": "python",
   "name": "python3"
  },
  "language_info": {
   "codemirror_mode": {
    "name": "ipython",
    "version": 3
   },
   "file_extension": ".py",
   "mimetype": "text/x-python",
   "name": "python",
   "nbconvert_exporter": "python",
   "pygments_lexer": "ipython3",
   "version": "3.12.0"
  }
 },
 "nbformat": 4,
 "nbformat_minor": 2
}
